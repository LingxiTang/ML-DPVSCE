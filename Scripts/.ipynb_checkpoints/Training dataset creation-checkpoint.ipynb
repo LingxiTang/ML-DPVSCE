{
 "cells": [
  {
   "cell_type": "markdown",
   "id": "e7549071",
   "metadata": {},
   "source": [
    "### This notebook takes in csv dataset of household load data and pv generation data to perform creation of training sets "
   ]
  },
  {
   "cell_type": "code",
   "execution_count": 5,
   "id": "19db2a6a",
   "metadata": {},
   "outputs": [],
   "source": [
    "# Import libraries\n",
    "\n",
    "import pandas as pd\n",
    "import matplotlib.pyplot as plt\n",
    "from datetime import datetime, timedelta\n",
    "import numpy as np\n",
    "from IFEEL import ifeel_transformation, ifeel_extraction\n",
    "from sklearn.neural_network import MLPRegressor\n",
    "from sklearn.datasets import make_regression\n",
    "from sklearn.model_selection import train_test_split\n",
    "import nbimporter\n",
    "from Functions import Functions"
   ]
  },
  {
   "cell_type": "code",
   "execution_count": 7,
   "id": "363fbedd",
   "metadata": {},
   "outputs": [],
   "source": [
    "# Import dataset of both household and PV data \n",
    "df = pd.read_csv (r\"C:\\Users\\tangl\\OneDrive\\Engineering Course\\Year 4\\4YP Lingxi Tang\\Load + PV Dataset.csv\",parse_dates=['date_time'],dayfirst=True)\n",
    "\n",
    "pv_col = 3                                                       # No. of columns of PV generation data\n",
    "hh_col = 81                                                      # No. of columns of household load data\n",
    "\n",
    "\n",
    "df = df.sort_values(\"date_time\")\n",
    "df.iloc[:,-pv_col:] = -df.iloc[:,-pv_col:]                       # Change PV generation data to negative\n",
    "date_time = df.iloc[:,0]\n",
    "df.drop(columns=df.columns[0], \n",
    "        axis=1, \n",
    "        inplace=True)\n",
    "\n",
    "\n",
    "## Separate household load and PV generation data \n",
    "pv_df = df.iloc[:,-pv_col:]\n",
    "\n",
    "## Activate either the first or second line for two datasets\n",
    "#hh_df = df.iloc[:,:hh_col]                                   # First 81 household properties\n",
    "hh_df = df.iloc[:,hh_col:hh_col*2]                            # Second 81 household properties"
   ]
  },
  {
   "cell_type": "code",
   "execution_count": 15,
   "id": "fc6f6ea9",
   "metadata": {},
   "outputs": [],
   "source": [
    "## Import dataset for the headers\n",
    "df_test = pd.read_csv(r\"C:\\Users\\tangl\\OneDrive\\Engineering Course\\Year 4\\4YP\\IFEEL_test_data_1month_30mins.csv\", header=0,index_col=0, parse_dates=False)\n",
    "\n",
    "no_of_houses = 81\n",
    "\n",
    "## Loop below generates annual feeder level net-load datasets with different number of PV-equipped household\n",
    "for no_of_pv in range(no_of_houses+1):\n",
    "    \n",
    "    ## Combining household load consumption data and the PV generation dataset of specified number of PV \n",
    "    pv_pen_rate = no_of_pv/no_of_houses\n",
    "    remainder_pv_no = no_of_pv%3\n",
    "    whole_pv_no = no_of_pv - remainder_pv_no\n",
    "    total_pv_generated = pv_df.sum(axis = 1) * whole_pv_no / no_of_houses\n",
    "    if remainder_pv_no == 1 or remainder_pv_no == 2:\n",
    "        more_pv = pv_df.iloc[:,0]\n",
    "        more_pv = more_pv/56\n",
    "        total_pv_generated = total_pv_generated + more_pv\n",
    "    if remainder_pv_no == 2:\n",
    "        more_pv = pv_df.iloc[:,1]\n",
    "        more_pv = more_pv/56\n",
    "        total_pv_generated = total_pv_generated + more_pv\n",
    "    hh_df = hh_df.iloc[:,:no_of_houses]\n",
    "    feeder_load = hh_df.sum(axis = 1) + total_pv_generated \n",
    "    pv_capacity = no_of_pv * 4.6       # pv capacity in kWp\n",
    "    pv_pen_rate = no_of_pv/no_of_houses\n",
    "    \n",
    "    ## Extract averaged 24-hour net-load curves\n",
    "    all_data = Functions.obtaincluster(feeder_load,pv_capacity,date_time)\n",
    "    \n",
    "    ## Obtain IFEEL training dataset\n",
    "    feat = Functions.get_IFEEL_feats(all_data,df_test,False)\n",
    "    if no_of_pv == 0: \n",
    "        all_feat = feat\n",
    "    if no_of_pv != 0:\n",
    "        all_feat = all_feat.append(feat)"
   ]
  },
  {
   "cell_type": "code",
   "execution_count": 9,
   "id": "e51f72b5",
   "metadata": {},
   "outputs": [],
   "source": [
    "## Save ML-ready training set in csv format \n",
    "#all_feat.to_csv('Datasetv4_ML_2.csv')"
   ]
  },
  {
   "cell_type": "code",
   "execution_count": null,
   "id": "d8e9c805",
   "metadata": {},
   "outputs": [],
   "source": []
  }
 ],
 "metadata": {
  "kernelspec": {
   "display_name": "Python 3 (ipykernel)",
   "language": "python",
   "name": "python3"
  },
  "language_info": {
   "codemirror_mode": {
    "name": "ipython",
    "version": 3
   },
   "file_extension": ".py",
   "mimetype": "text/x-python",
   "name": "python",
   "nbconvert_exporter": "python",
   "pygments_lexer": "ipython3",
   "version": "3.9.5"
  }
 },
 "nbformat": 4,
 "nbformat_minor": 5
}
