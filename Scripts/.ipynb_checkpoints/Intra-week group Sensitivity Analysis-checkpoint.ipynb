{
 "cells": [
  {
   "cell_type": "markdown",
   "id": "19d29066",
   "metadata": {},
   "source": [
    "### This notebook takes in csv dataset of input features and output variable to perform the following:\n",
    "- Filtering of dataset based on intra-week group\n",
    "- Training of neural network\n",
    "- Obtaining average RMSE, MAE and standard deviation of AE of ANN predictions\n",
    "- Plotting of RMSE against PV penetration rate"
   ]
  },
  {
   "cell_type": "code",
   "execution_count": 4,
   "id": "b49aa4ea",
   "metadata": {},
   "outputs": [],
   "source": [
    "# Import libraries \n",
    "from sklearn.neural_network import MLPRegressor\n",
    "from sklearn.datasets import make_regression\n",
    "from sklearn.model_selection import train_test_split\n",
    "import pandas as pd\n",
    "import numpy as np\n",
    "import matplotlib.pyplot as plt\n",
    "from sklearn.metrics import mean_squared_error\n",
    "from sklearn.metrics import mean_absolute_error\n",
    "import math\n",
    "from sklearn import preprocessing\n",
    "import keras\n",
    "from matplotlib.lines import Line2D\n",
    "import time\n",
    "from sklearn.model_selection import GridSearchCV"
   ]
  },
  {
   "cell_type": "code",
   "execution_count": 5,
   "id": "c950c166",
   "metadata": {},
   "outputs": [],
   "source": [
    "# Import training set\n",
    "df1 = pd.read_csv (r\"C:\\Users\\tangl\\OneDrive\\Engineering Course\\Year 4\\4YP\\Training Datasets\\Datasetv4_ML_all_1.csv\",index_col=[0])\n",
    "df2 = pd.read_csv (r\"C:\\Users\\tangl\\OneDrive\\Engineering Course\\Year 4\\4YP\\Training Datasets\\Datasetv4_ML_all_2.csv\",index_col=[0])\n",
    "\n",
    "df = pd.concat([df1,df2])\n",
    "# Remove Peak_all features\n",
    "df = df.drop(df.columns[[14,15,16,17,18,19,20]],axis = 1)"
   ]
  },
  {
   "cell_type": "code",
   "execution_count": 11,
   "id": "338659cb",
   "metadata": {},
   "outputs": [],
   "source": [
    "X = df.iloc[:,:16]    \n",
    "Y = df.iloc[:,-1:]\n",
    "X = X.to_numpy()\n",
    "Y = Y.to_numpy()\n",
    "\n",
    "(X_train, X_test, y_train, y_test,) = train_test_split(X, Y,stratify = Y, test_size=0.1,random_state = 1)\n",
    "\n",
    "## Select samples based on intra-week group\n",
    "weekgroup = 3                                      # Change number based on desired intra-week group, Mon - Thurs: 1, Fri-Sat: 2, Sun: 3\n",
    "y_train = y_train[X_train[:, 15] == weekgroup]\n",
    "y_test = y_test[X_test[:, 15] == weekgroup]\n",
    "X_train = X_train[X_train[:, 15] == weekgroup, :]   \n",
    "X_test = X_test[X_test[:, 15] == weekgroup, :]\n",
    "\n",
    "## Remove intra-week group feature\n",
    "X_train = np.delete(X_train,-1,axis=1)\n",
    "X_test = np.delete(X_test,-1,axis=1)\n",
    "\n",
    "## Standardisation within each input feature\n",
    "sc_X = preprocessing.StandardScaler()\n",
    "X_train=sc_X.fit_transform(X_train)\n",
    "X_test=sc_X.transform(X_test)\n",
    "y_test = np.ravel(y_test)\n",
    "y_train = np.ravel(y_train)"
   ]
  },
  {
   "cell_type": "code",
   "execution_count": 7,
   "id": "5dd21605",
   "metadata": {},
   "outputs": [],
   "source": [
    "def getresults(X_train,y_train,X_test,y_test):\n",
    "    regr = MLPRegressor(hidden_layer_sizes = (270,270),max_iter=2200, learning_rate_init=0.01, alpha = 0.0005).fit(X_train, y_train)\n",
    "    results = regr.predict(X_test)\n",
    "    total_rmse = mean_squared_error(y_test,results,squared=False)\n",
    "    total_mae = mean_absolute_error(y_test,results)\n",
    "    total_ae_std = np.std(abs(results - y_test))\n",
    "\n",
    "    combined = np.vstack((y_test, results)).T\n",
    "    y_values_by_x = {}\n",
    "    for x, y in combined:\n",
    "        y_values_by_x.setdefault(x, []).append(y)\n",
    "    mse = {k: sum((k-v)**2)/len(v) for k, v in y_values_by_x.items()}\n",
    "    rmse = {k: math.sqrt(v) for k, v in mse.items()}\n",
    "    rmse_lists = sorted(rmse.items()) \n",
    "    x, rmse_y = zip(*rmse_lists) \n",
    "\n",
    "    return (total_rmse, total_mae, total_ae_std,rmse_y,x)"
   ]
  },
  {
   "cell_type": "code",
   "execution_count": 8,
   "id": "58cff9f5",
   "metadata": {},
   "outputs": [
    {
     "name": "stderr",
     "output_type": "stream",
     "text": [
      "C:\\Users\\tangl\\miniconda3\\lib\\site-packages\\sklearn\\neural_network\\_multilayer_perceptron.py:614: ConvergenceWarning: Stochastic Optimizer: Maximum iterations (10) reached and the optimization hasn't converged yet.\n",
      "  warnings.warn(\n"
     ]
    }
   ],
   "source": [
    "ave_rmse = 0\n",
    "ave_mae = 0\n",
    "ave_ae_std = 0\n",
    "all_rmse_y =np.zeros(82)\n",
    "repetitions = 5\n",
    "for i in range(repetitions):\n",
    "    (total_rmse, total_mae, total_ae_std,rmse_y,x) = getresults(X_train,y_train,X_test,y_test)\n",
    "    ave_rmse = ave_rmse + total_rmse\n",
    "    ave_mae = ave_mae + total_mae\n",
    "    ave_ae_std = ave_ae_std + total_ae_std\n",
    "    all_rmse_y = np.vstack([all_rmse_y,rmse_y])\n",
    "\n",
    "ave_rmse = ave_rmse / repetitions\n",
    "ave_mae = ave_mae / repetitions\n",
    "ave_ae_std = ave_ae_std/repetitions\n",
    "all_rmse_y = all_rmse_y[1:]"
   ]
  },
  {
   "cell_type": "code",
   "execution_count": 36,
   "id": "b0e9d207",
   "metadata": {},
   "outputs": [
    {
     "name": "stdout",
     "output_type": "stream",
     "text": [
      "12.216838690789718\n",
      "8.653259337798977\n",
      "8.586835594062991\n"
     ]
    }
   ],
   "source": [
    "print(ave_rmse)\n",
    "print(ave_mae)\n",
    "print(ave_ae_std)"
   ]
  },
  {
   "cell_type": "code",
   "execution_count": 37,
   "id": "4a5d5f70",
   "metadata": {},
   "outputs": [],
   "source": [
    "np.save('monthurs_rmse_y',all_rmse_y)\n"
   ]
  },
  {
   "cell_type": "markdown",
   "id": "12fcf626",
   "metadata": {},
   "source": [
    "### Plot RMSE against PV penetration rates"
   ]
  },
  {
   "cell_type": "code",
   "execution_count": 1,
   "id": "95d8ed2d",
   "metadata": {},
   "outputs": [
    {
     "ename": "NameError",
     "evalue": "name 'np' is not defined",
     "output_type": "error",
     "traceback": [
      "\u001b[1;31m---------------------------------------------------------------------------\u001b[0m",
      "\u001b[1;31mNameError\u001b[0m                                 Traceback (most recent call last)",
      "\u001b[1;32m~\\AppData\\Local\\Temp/ipykernel_8268/2148315872.py\u001b[0m in \u001b[0;36m<module>\u001b[1;34m\u001b[0m\n\u001b[0;32m      1\u001b[0m \u001b[1;31m## Import pre-prepared results\u001b[0m\u001b[1;33m\u001b[0m\u001b[1;33m\u001b[0m\u001b[1;33m\u001b[0m\u001b[0m\n\u001b[1;32m----> 2\u001b[1;33m \u001b[0mall_rmse_y\u001b[0m \u001b[1;33m=\u001b[0m \u001b[0mnp\u001b[0m\u001b[1;33m.\u001b[0m\u001b[0mload\u001b[0m\u001b[1;33m(\u001b[0m\u001b[1;34m\"all_rmse_y.npy\"\u001b[0m\u001b[1;33m)\u001b[0m\u001b[1;33m\u001b[0m\u001b[1;33m\u001b[0m\u001b[0m\n\u001b[0m\u001b[0;32m      3\u001b[0m \u001b[0mmonthurs_rmse_y\u001b[0m \u001b[1;33m=\u001b[0m \u001b[0mnp\u001b[0m\u001b[1;33m.\u001b[0m\u001b[0mload\u001b[0m\u001b[1;33m(\u001b[0m\u001b[1;34m\"monthurs_rmse_y.npy\"\u001b[0m\u001b[1;33m)\u001b[0m\u001b[1;33m\u001b[0m\u001b[1;33m\u001b[0m\u001b[0m\n\u001b[0;32m      4\u001b[0m \u001b[0mfrisat_rmse_y\u001b[0m \u001b[1;33m=\u001b[0m \u001b[0mnp\u001b[0m\u001b[1;33m.\u001b[0m\u001b[0mload\u001b[0m\u001b[1;33m(\u001b[0m\u001b[1;34m\"frisat_rmse_y.npy\"\u001b[0m\u001b[1;33m)\u001b[0m\u001b[1;33m\u001b[0m\u001b[1;33m\u001b[0m\u001b[0m\n\u001b[0;32m      5\u001b[0m \u001b[0msun_rmse_y\u001b[0m \u001b[1;33m=\u001b[0m \u001b[0mnp\u001b[0m\u001b[1;33m.\u001b[0m\u001b[0mload\u001b[0m\u001b[1;33m(\u001b[0m\u001b[1;34m\"sun_rmse_y.npy\"\u001b[0m\u001b[1;33m)\u001b[0m\u001b[1;33m\u001b[0m\u001b[1;33m\u001b[0m\u001b[0m\n",
      "\u001b[1;31mNameError\u001b[0m: name 'np' is not defined"
     ]
    }
   ],
   "source": [
    "## Import pre-prepared results\n",
    "all_rmse_y = np.load(\"all_rmse_y.npy\")\n",
    "monthurs_rmse_y = np.load(\"monthurs_rmse_y.npy\")\n",
    "frisat_rmse_y = np.load(\"frisat_rmse_y.npy\")\n",
    "sun_rmse_y = np.load(\"sun_rmse_y.npy\")\n",
    "\n",
    "ave_all = np.mean(all_rmse_y,axis =0)\n",
    "ave_monthurs = np.mean(monthurs_rmse_y,axis =0)\n",
    "ave_frisat = np.mean(frisat_rmse_y,axis =0)\n",
    "ave_sun = np.mean(sun_rmse_y,axis =0)\n",
    "\n",
    "std_all = np.std(all_rmse_y,axis =0)\n",
    "std_monthurs = np.std(monthurs_rmse_y,axis =0)\n",
    "std_frisat  = np.std(frisat_rmse_y,axis =0)\n",
    "std_sun = np.std(sun_rmse_y,axis =0)\n",
    "\n"
   ]
  },
  {
   "cell_type": "code",
   "execution_count": 16,
   "id": "1d9a2351",
   "metadata": {},
   "outputs": [
    {
     "data": {
      "image/png": "[encoded data removed]",
      "text/plain": [
       "<Figure size 576x360 with 1 Axes>"
      ]
     },
     "metadata": {
      "needs_background": "light"
     },
     "output_type": "display_data"
    }
   ],
   "source": [
    "x_percentage = np.divide(x,372.6)\n",
    "x_percentage = x_percentage*100\n",
    "#x_percentage = x_percentage[:-1]\n",
    "plt.figure(figsize=(8, 5))\n",
    "\n",
    "plt.plot(x_percentage, ave_sun, color = 'blue')\n",
    "\n",
    "#plt.fill_between(x_percentage, ave_monthurs + (std_monthurs)/2, ave_monthurs - (std_monthurs)/2, alpha = 0.3, color = 'blue')\n",
    "#plt.fill_between(x_percentage, ave_frisat + (std_frisat)/2, ave_frisat- (std_frisat)/2, alpha = 0.3, color = 'blue')\n",
    "plt.fill_between(x_percentage, ave_sun + (std_sun)/2, ave_sun - (std_sun)/2, alpha = 0.3, color = 'blue')\n",
    "#plt.fill_between(x_percentage, ave_all + (std_all)/2, ave_all - (std_all)/2, alpha = 0.3, color = 'black')\n",
    "\n",
    "plt.xlabel(\"Percentage of properties with installed PV (%)\",fontsize = 20)\n",
    "#plt.ylabel(\"RMSE (kW)\",fontsize=13)\n",
    "plt.ylim((3,55))\n",
    "plt.title('Sunday',fontsize = 15)\n",
    "#plt.legend()\n",
    "plt.show()"
   ]
  },
  {
   "cell_type": "code",
   "execution_count": null,
   "id": "28a2028b",
   "metadata": {},
   "outputs": [],
   "source": []
  }
 ],
 "metadata": {
  "kernelspec": {
   "display_name": "Python 3 (ipykernel)",
   "language": "python",
   "name": "python3"
  },
  "language_info": {
   "codemirror_mode": {
    "name": "ipython",
    "version": 3
   },
   "file_extension": ".py",
   "mimetype": "text/x-python",
   "name": "python",
   "nbconvert_exporter": "python",
   "pygments_lexer": "ipython3",
   "version": "3.9.5"
  }
 },
 "nbformat": 4,
 "nbformat_minor": 5
}
