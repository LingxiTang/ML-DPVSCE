{
 "cells": [
  {
   "cell_type": "markdown",
   "id": "e0240020",
   "metadata": {},
   "source": [
    "### This notebook takes in csv dataset of household load consumption and PV generation data to perform the following:\n",
    "- Generates and plots heatmap of RMSE and MAPE values "
   ]
  },
  {
   "cell_type": "code",
   "execution_count": 2,
   "id": "5e8fd995",
   "metadata": {},
   "outputs": [],
   "source": [
    "import nbimporter\n",
    "from Functions import Functions\n",
    "import pandas as pd\n",
    "import matplotlib.pyplot as plt\n",
    "from datetime import datetime, timedelta\n",
    "import matplotlib.dates as mdates\n",
    "import numpy as np\n",
    "from IFEEL import ifeel_transformation, ifeel_extraction\n",
    "from sklearn.neural_network import MLPRegressor\n",
    "from sklearn.datasets import make_regression\n",
    "from sklearn.model_selection import train_test_split\n",
    "from sklearn import preprocessing\n",
    "import math\n",
    "import seaborn as sns\n",
    "import random"
   ]
  },
  {
   "cell_type": "code",
   "execution_count": 9,
   "id": "05e466e6",
   "metadata": {},
   "outputs": [],
   "source": [
    "# Import dataset of both household and PV data \n",
    "df = pd.read_csv (r\"C:\\Users\\tangl\\OneDrive\\Engineering Course\\Year 4\\4YP Lingxi Tang\\Load + PV Dataset.csv\",parse_dates=['date_time'],dayfirst=True)\n",
    "df_test = pd.read_csv(r\"C:\\Users\\tangl\\OneDrive\\Engineering Course\\Year 4\\4YP\\IFEEL_test_data_1month_30mins.csv\", header=0,index_col=0, parse_dates=False)\n",
    "\n",
    "\n",
    "pv_col = 3                                                       # No. of columns of PV generation data\n",
    "hh_col = 81                                                     # No. of columns of household load data\n",
    "\n",
    "\n",
    "df = df.sort_values(\"date_time\")\n",
    "df.iloc[:,-pv_col:] = -df.iloc[:,-pv_col:]                       # Change PV generation data to negative\n",
    "date_time = df.iloc[:,0]\n",
    "df.drop(columns=df.columns[0], \n",
    "        axis=1, \n",
    "        inplace=True)\n",
    "\n",
    "\n",
    "# Separate household load and PV generation data \n",
    "pv_df = df.iloc[:,-pv_col:]\n",
    "hh_df_1 = df.iloc[:,:hh_col]\n",
    "hh_df_2 = df.iloc[:,hh_col:hh_col*2]"
   ]
  },
  {
   "cell_type": "code",
   "execution_count": 16,
   "id": "0d27e717",
   "metadata": {},
   "outputs": [
    {
     "name": "stderr",
     "output_type": "stream",
     "text": [
      "C:\\Users\\tangl\\AppData\\Local\\Temp/ipykernel_9532/4020353443.py:109: RuntimeWarning: divide by zero encountered in true_divide\n",
      "  mape = {k: sum(abs(k-v)/k)/len(v) for k, v in y_values_by_x.items()}\n",
      "C:\\Users\\tangl\\miniconda3\\lib\\site-packages\\sklearn\\neural_network\\_multilayer_perceptron.py:614: ConvergenceWarning: Stochastic Optimizer: Maximum iterations (220) reached and the optimization hasn't converged yet.\n",
      "  warnings.warn(\n",
      "C:\\Users\\tangl\\AppData\\Local\\Temp/ipykernel_9532/4020353443.py:109: RuntimeWarning: divide by zero encountered in true_divide\n",
      "  mape = {k: sum(abs(k-v)/k)/len(v) for k, v in y_values_by_x.items()}\n",
      "C:\\Users\\tangl\\miniconda3\\lib\\site-packages\\sklearn\\neural_network\\_multilayer_perceptron.py:614: ConvergenceWarning: Stochastic Optimizer: Maximum iterations (220) reached and the optimization hasn't converged yet.\n",
      "  warnings.warn(\n",
      "C:\\Users\\tangl\\AppData\\Local\\Temp/ipykernel_9532/4020353443.py:109: RuntimeWarning: divide by zero encountered in true_divide\n",
      "  mape = {k: sum(abs(k-v)/k)/len(v) for k, v in y_values_by_x.items()}\n",
      "C:\\Users\\tangl\\miniconda3\\lib\\site-packages\\sklearn\\neural_network\\_multilayer_perceptron.py:614: ConvergenceWarning: Stochastic Optimizer: Maximum iterations (220) reached and the optimization hasn't converged yet.\n",
      "  warnings.warn(\n",
      "C:\\Users\\tangl\\AppData\\Local\\Temp/ipykernel_9532/4020353443.py:109: RuntimeWarning: divide by zero encountered in true_divide\n",
      "  mape = {k: sum(abs(k-v)/k)/len(v) for k, v in y_values_by_x.items()}\n",
      "C:\\Users\\tangl\\miniconda3\\lib\\site-packages\\sklearn\\neural_network\\_multilayer_perceptron.py:614: ConvergenceWarning: Stochastic Optimizer: Maximum iterations (220) reached and the optimization hasn't converged yet.\n",
      "  warnings.warn(\n",
      "C:\\Users\\tangl\\AppData\\Local\\Temp/ipykernel_9532/4020353443.py:109: RuntimeWarning: divide by zero encountered in true_divide\n",
      "  mape = {k: sum(abs(k-v)/k)/len(v) for k, v in y_values_by_x.items()}\n",
      "C:\\Users\\tangl\\miniconda3\\lib\\site-packages\\sklearn\\neural_network\\_multilayer_perceptron.py:614: ConvergenceWarning: Stochastic Optimizer: Maximum iterations (220) reached and the optimization hasn't converged yet.\n",
      "  warnings.warn(\n",
      "C:\\Users\\tangl\\AppData\\Local\\Temp/ipykernel_9532/4020353443.py:109: RuntimeWarning: divide by zero encountered in true_divide\n",
      "  mape = {k: sum(abs(k-v)/k)/len(v) for k, v in y_values_by_x.items()}\n",
      "C:\\Users\\tangl\\AppData\\Local\\Temp/ipykernel_9532/4020353443.py:109: RuntimeWarning: divide by zero encountered in true_divide\n",
      "  mape = {k: sum(abs(k-v)/k)/len(v) for k, v in y_values_by_x.items()}\n"
     ]
    },
    {
     "name": "stdout",
     "output_type": "stream",
     "text": [
      "0\n"
     ]
    },
    {
     "name": "stderr",
     "output_type": "stream",
     "text": [
      "C:\\Users\\tangl\\AppData\\Local\\Temp/ipykernel_9532/4020353443.py:109: RuntimeWarning: divide by zero encountered in true_divide\n",
      "  mape = {k: sum(abs(k-v)/k)/len(v) for k, v in y_values_by_x.items()}\n",
      "C:\\Users\\tangl\\miniconda3\\lib\\site-packages\\sklearn\\neural_network\\_multilayer_perceptron.py:614: ConvergenceWarning: Stochastic Optimizer: Maximum iterations (220) reached and the optimization hasn't converged yet.\n",
      "  warnings.warn(\n",
      "C:\\Users\\tangl\\AppData\\Local\\Temp/ipykernel_9532/4020353443.py:109: RuntimeWarning: divide by zero encountered in true_divide\n",
      "  mape = {k: sum(abs(k-v)/k)/len(v) for k, v in y_values_by_x.items()}\n",
      "C:\\Users\\tangl\\miniconda3\\lib\\site-packages\\sklearn\\neural_network\\_multilayer_perceptron.py:614: ConvergenceWarning: Stochastic Optimizer: Maximum iterations (220) reached and the optimization hasn't converged yet.\n",
      "  warnings.warn(\n",
      "C:\\Users\\tangl\\AppData\\Local\\Temp/ipykernel_9532/4020353443.py:109: RuntimeWarning: divide by zero encountered in true_divide\n",
      "  mape = {k: sum(abs(k-v)/k)/len(v) for k, v in y_values_by_x.items()}\n",
      "C:\\Users\\tangl\\miniconda3\\lib\\site-packages\\sklearn\\neural_network\\_multilayer_perceptron.py:614: ConvergenceWarning: Stochastic Optimizer: Maximum iterations (220) reached and the optimization hasn't converged yet.\n",
      "  warnings.warn(\n",
      "C:\\Users\\tangl\\AppData\\Local\\Temp/ipykernel_9532/4020353443.py:109: RuntimeWarning: divide by zero encountered in true_divide\n",
      "  mape = {k: sum(abs(k-v)/k)/len(v) for k, v in y_values_by_x.items()}\n",
      "C:\\Users\\tangl\\miniconda3\\lib\\site-packages\\sklearn\\neural_network\\_multilayer_perceptron.py:614: ConvergenceWarning: Stochastic Optimizer: Maximum iterations (220) reached and the optimization hasn't converged yet.\n",
      "  warnings.warn(\n",
      "C:\\Users\\tangl\\AppData\\Local\\Temp/ipykernel_9532/4020353443.py:109: RuntimeWarning: divide by zero encountered in true_divide\n",
      "  mape = {k: sum(abs(k-v)/k)/len(v) for k, v in y_values_by_x.items()}\n",
      "C:\\Users\\tangl\\miniconda3\\lib\\site-packages\\sklearn\\neural_network\\_multilayer_perceptron.py:614: ConvergenceWarning: Stochastic Optimizer: Maximum iterations (220) reached and the optimization hasn't converged yet.\n",
      "  warnings.warn(\n",
      "C:\\Users\\tangl\\AppData\\Local\\Temp/ipykernel_9532/4020353443.py:109: RuntimeWarning: divide by zero encountered in true_divide\n",
      "  mape = {k: sum(abs(k-v)/k)/len(v) for k, v in y_values_by_x.items()}\n",
      "C:\\Users\\tangl\\AppData\\Local\\Temp/ipykernel_9532/4020353443.py:109: RuntimeWarning: divide by zero encountered in true_divide\n",
      "  mape = {k: sum(abs(k-v)/k)/len(v) for k, v in y_values_by_x.items()}\n"
     ]
    },
    {
     "name": "stdout",
     "output_type": "stream",
     "text": [
      "1\n"
     ]
    },
    {
     "name": "stderr",
     "output_type": "stream",
     "text": [
      "C:\\Users\\tangl\\AppData\\Local\\Temp/ipykernel_9532/4020353443.py:109: RuntimeWarning: divide by zero encountered in true_divide\n",
      "  mape = {k: sum(abs(k-v)/k)/len(v) for k, v in y_values_by_x.items()}\n",
      "C:\\Users\\tangl\\miniconda3\\lib\\site-packages\\sklearn\\neural_network\\_multilayer_perceptron.py:614: ConvergenceWarning: Stochastic Optimizer: Maximum iterations (220) reached and the optimization hasn't converged yet.\n",
      "  warnings.warn(\n",
      "C:\\Users\\tangl\\AppData\\Local\\Temp/ipykernel_9532/4020353443.py:109: RuntimeWarning: divide by zero encountered in true_divide\n",
      "  mape = {k: sum(abs(k-v)/k)/len(v) for k, v in y_values_by_x.items()}\n",
      "C:\\Users\\tangl\\miniconda3\\lib\\site-packages\\sklearn\\neural_network\\_multilayer_perceptron.py:614: ConvergenceWarning: Stochastic Optimizer: Maximum iterations (220) reached and the optimization hasn't converged yet.\n",
      "  warnings.warn(\n",
      "C:\\Users\\tangl\\AppData\\Local\\Temp/ipykernel_9532/4020353443.py:109: RuntimeWarning: divide by zero encountered in true_divide\n",
      "  mape = {k: sum(abs(k-v)/k)/len(v) for k, v in y_values_by_x.items()}\n",
      "C:\\Users\\tangl\\AppData\\Local\\Temp/ipykernel_9532/4020353443.py:109: RuntimeWarning: divide by zero encountered in true_divide\n",
      "  mape = {k: sum(abs(k-v)/k)/len(v) for k, v in y_values_by_x.items()}\n",
      "C:\\Users\\tangl\\miniconda3\\lib\\site-packages\\sklearn\\neural_network\\_multilayer_perceptron.py:614: ConvergenceWarning: Stochastic Optimizer: Maximum iterations (220) reached and the optimization hasn't converged yet.\n",
      "  warnings.warn(\n",
      "C:\\Users\\tangl\\AppData\\Local\\Temp/ipykernel_9532/4020353443.py:109: RuntimeWarning: divide by zero encountered in true_divide\n",
      "  mape = {k: sum(abs(k-v)/k)/len(v) for k, v in y_values_by_x.items()}\n",
      "C:\\Users\\tangl\\miniconda3\\lib\\site-packages\\sklearn\\neural_network\\_multilayer_perceptron.py:614: ConvergenceWarning: Stochastic Optimizer: Maximum iterations (220) reached and the optimization hasn't converged yet.\n",
      "  warnings.warn(\n",
      "C:\\Users\\tangl\\AppData\\Local\\Temp/ipykernel_9532/4020353443.py:109: RuntimeWarning: divide by zero encountered in true_divide\n",
      "  mape = {k: sum(abs(k-v)/k)/len(v) for k, v in y_values_by_x.items()}\n",
      "C:\\Users\\tangl\\AppData\\Local\\Temp/ipykernel_9532/4020353443.py:109: RuntimeWarning: divide by zero encountered in true_divide\n",
      "  mape = {k: sum(abs(k-v)/k)/len(v) for k, v in y_values_by_x.items()}\n"
     ]
    },
    {
     "name": "stdout",
     "output_type": "stream",
     "text": [
      "2\n"
     ]
    },
    {
     "name": "stderr",
     "output_type": "stream",
     "text": [
      "C:\\Users\\tangl\\miniconda3\\lib\\site-packages\\sklearn\\neural_network\\_multilayer_perceptron.py:614: ConvergenceWarning: Stochastic Optimizer: Maximum iterations (220) reached and the optimization hasn't converged yet.\n",
      "  warnings.warn(\n",
      "C:\\Users\\tangl\\AppData\\Local\\Temp/ipykernel_9532/4020353443.py:109: RuntimeWarning: divide by zero encountered in true_divide\n",
      "  mape = {k: sum(abs(k-v)/k)/len(v) for k, v in y_values_by_x.items()}\n",
      "C:\\Users\\tangl\\miniconda3\\lib\\site-packages\\sklearn\\neural_network\\_multilayer_perceptron.py:614: ConvergenceWarning: Stochastic Optimizer: Maximum iterations (220) reached and the optimization hasn't converged yet.\n",
      "  warnings.warn(\n",
      "C:\\Users\\tangl\\AppData\\Local\\Temp/ipykernel_9532/4020353443.py:109: RuntimeWarning: divide by zero encountered in true_divide\n",
      "  mape = {k: sum(abs(k-v)/k)/len(v) for k, v in y_values_by_x.items()}\n",
      "C:\\Users\\tangl\\miniconda3\\lib\\site-packages\\sklearn\\neural_network\\_multilayer_perceptron.py:614: ConvergenceWarning: Stochastic Optimizer: Maximum iterations (220) reached and the optimization hasn't converged yet.\n",
      "  warnings.warn(\n",
      "C:\\Users\\tangl\\AppData\\Local\\Temp/ipykernel_9532/4020353443.py:109: RuntimeWarning: divide by zero encountered in true_divide\n",
      "  mape = {k: sum(abs(k-v)/k)/len(v) for k, v in y_values_by_x.items()}\n",
      "C:\\Users\\tangl\\miniconda3\\lib\\site-packages\\sklearn\\neural_network\\_multilayer_perceptron.py:614: ConvergenceWarning: Stochastic Optimizer: Maximum iterations (220) reached and the optimization hasn't converged yet.\n",
      "  warnings.warn(\n",
      "C:\\Users\\tangl\\AppData\\Local\\Temp/ipykernel_9532/4020353443.py:109: RuntimeWarning: divide by zero encountered in true_divide\n",
      "  mape = {k: sum(abs(k-v)/k)/len(v) for k, v in y_values_by_x.items()}\n",
      "C:\\Users\\tangl\\miniconda3\\lib\\site-packages\\sklearn\\neural_network\\_multilayer_perceptron.py:614: ConvergenceWarning: Stochastic Optimizer: Maximum iterations (220) reached and the optimization hasn't converged yet.\n",
      "  warnings.warn(\n",
      "C:\\Users\\tangl\\AppData\\Local\\Temp/ipykernel_9532/4020353443.py:109: RuntimeWarning: divide by zero encountered in true_divide\n",
      "  mape = {k: sum(abs(k-v)/k)/len(v) for k, v in y_values_by_x.items()}\n",
      "C:\\Users\\tangl\\miniconda3\\lib\\site-packages\\sklearn\\neural_network\\_multilayer_perceptron.py:614: ConvergenceWarning: Stochastic Optimizer: Maximum iterations (220) reached and the optimization hasn't converged yet.\n",
      "  warnings.warn(\n",
      "C:\\Users\\tangl\\AppData\\Local\\Temp/ipykernel_9532/4020353443.py:109: RuntimeWarning: divide by zero encountered in true_divide\n",
      "  mape = {k: sum(abs(k-v)/k)/len(v) for k, v in y_values_by_x.items()}\n",
      "C:\\Users\\tangl\\AppData\\Local\\Temp/ipykernel_9532/4020353443.py:109: RuntimeWarning: divide by zero encountered in true_divide\n",
      "  mape = {k: sum(abs(k-v)/k)/len(v) for k, v in y_values_by_x.items()}\n"
     ]
    },
    {
     "name": "stdout",
     "output_type": "stream",
     "text": [
      "3\n"
     ]
    },
    {
     "name": "stderr",
     "output_type": "stream",
     "text": [
      "C:\\Users\\tangl\\AppData\\Local\\Temp/ipykernel_9532/4020353443.py:109: RuntimeWarning: divide by zero encountered in true_divide\n",
      "  mape = {k: sum(abs(k-v)/k)/len(v) for k, v in y_values_by_x.items()}\n",
      "C:\\Users\\tangl\\miniconda3\\lib\\site-packages\\sklearn\\neural_network\\_multilayer_perceptron.py:614: ConvergenceWarning: Stochastic Optimizer: Maximum iterations (220) reached and the optimization hasn't converged yet.\n",
      "  warnings.warn(\n",
      "C:\\Users\\tangl\\AppData\\Local\\Temp/ipykernel_9532/4020353443.py:109: RuntimeWarning: divide by zero encountered in true_divide\n",
      "  mape = {k: sum(abs(k-v)/k)/len(v) for k, v in y_values_by_x.items()}\n",
      "C:\\Users\\tangl\\miniconda3\\lib\\site-packages\\sklearn\\neural_network\\_multilayer_perceptron.py:614: ConvergenceWarning: Stochastic Optimizer: Maximum iterations (220) reached and the optimization hasn't converged yet.\n",
      "  warnings.warn(\n",
      "C:\\Users\\tangl\\AppData\\Local\\Temp/ipykernel_9532/4020353443.py:109: RuntimeWarning: divide by zero encountered in true_divide\n",
      "  mape = {k: sum(abs(k-v)/k)/len(v) for k, v in y_values_by_x.items()}\n",
      "C:\\Users\\tangl\\miniconda3\\lib\\site-packages\\sklearn\\neural_network\\_multilayer_perceptron.py:614: ConvergenceWarning: Stochastic Optimizer: Maximum iterations (220) reached and the optimization hasn't converged yet.\n",
      "  warnings.warn(\n",
      "C:\\Users\\tangl\\AppData\\Local\\Temp/ipykernel_9532/4020353443.py:109: RuntimeWarning: divide by zero encountered in true_divide\n",
      "  mape = {k: sum(abs(k-v)/k)/len(v) for k, v in y_values_by_x.items()}\n",
      "C:\\Users\\tangl\\miniconda3\\lib\\site-packages\\sklearn\\neural_network\\_multilayer_perceptron.py:614: ConvergenceWarning: Stochastic Optimizer: Maximum iterations (220) reached and the optimization hasn't converged yet.\n",
      "  warnings.warn(\n",
      "C:\\Users\\tangl\\AppData\\Local\\Temp/ipykernel_9532/4020353443.py:109: RuntimeWarning: divide by zero encountered in true_divide\n",
      "  mape = {k: sum(abs(k-v)/k)/len(v) for k, v in y_values_by_x.items()}\n",
      "C:\\Users\\tangl\\miniconda3\\lib\\site-packages\\sklearn\\neural_network\\_multilayer_perceptron.py:614: ConvergenceWarning: Stochastic Optimizer: Maximum iterations (220) reached and the optimization hasn't converged yet.\n",
      "  warnings.warn(\n",
      "C:\\Users\\tangl\\AppData\\Local\\Temp/ipykernel_9532/4020353443.py:109: RuntimeWarning: divide by zero encountered in true_divide\n",
      "  mape = {k: sum(abs(k-v)/k)/len(v) for k, v in y_values_by_x.items()}\n"
     ]
    },
    {
     "name": "stdout",
     "output_type": "stream",
     "text": [
      "4\n"
     ]
    },
    {
     "name": "stderr",
     "output_type": "stream",
     "text": [
      "C:\\Users\\tangl\\AppData\\Local\\Temp/ipykernel_9532/4020353443.py:109: RuntimeWarning: divide by zero encountered in true_divide\n",
      "  mape = {k: sum(abs(k-v)/k)/len(v) for k, v in y_values_by_x.items()}\n"
     ]
    }
   ],
   "source": [
    "df_test = pd.read_csv(r\"C:\\Users\\tangl\\OneDrive\\Engineering Course\\Year 4\\4YP\\IFEEL_test_data_1month_30mins.csv\", header=0,index_col=0, parse_dates=False)\n",
    "all_all_rmse = np.zeros((7,21))\n",
    "all_all_mape = np.zeros((7,20))\n",
    "\n",
    "repetitions = 5\n",
    "\n",
    "\n",
    "\n",
    "for i in range(repetitions):\n",
    "    all_row_rmse = []\n",
    "    all_row_mape = []\n",
    "    random.seed(i)\n",
    "    ## Generate annual net load curve and extract IFEEL features \n",
    "    for no_of_houses in range(20,81,10):\n",
    "        for no_of_pv in range(no_of_houses+1):\n",
    "            pv_pen_rate = no_of_pv/no_of_houses\n",
    "            remainder_pv_no = no_of_pv%3\n",
    "            whole_pv_no = no_of_pv - remainder_pv_no\n",
    "            total_pv_generated = pv_df.sum(axis = 1) * whole_pv_no / no_of_houses\n",
    "            if remainder_pv_no == 1 or remainder_pv_no == 2:\n",
    "                more_pv = pv_df.iloc[:,0]\n",
    "                more_pv = more_pv/56\n",
    "                total_pv_generated = total_pv_generated + more_pv\n",
    "\n",
    "            if remainder_pv_no == 2:\n",
    "                more_pv = pv_df.iloc[:,1]\n",
    "                more_pv = more_pv/56\n",
    "                total_pv_generated = total_pv_generated + more_pv\n",
    "                \n",
    "            randomlist = random.sample(range(81), no_of_houses)\n",
    "        \n",
    "            hh_df = hh_df_1.iloc[:,randomlist]\n",
    "            feeder_load = hh_df.sum(axis = 1) + total_pv_generated \n",
    "            pv_capacity = no_of_pv * 4.6       # pv capacity in kWp\n",
    "            all_data = Functions.obtaincluster(feeder_load,pv_capacity,date_time)\n",
    "            feat = Functions.get_IFEEL_feats(all_data,df_test,True)\n",
    "            if no_of_pv == 0: \n",
    "                all_feat = feat\n",
    "            if no_of_pv != 0:\n",
    "                all_feat = all_feat.append(feat)\n",
    "\n",
    "            # Extract second batch of feeder load data to add to training set \n",
    "            hh_df = hh_df_2.iloc[:,randomlist]\n",
    "            feeder_load = hh_df.sum(axis = 1) + total_pv_generated \n",
    "            pv_capacity = no_of_pv * 4.6       # pv capacity in kWp\n",
    "            all_data = Functions.obtaincluster(feeder_load,pv_capacity,date_time)\n",
    "            feat = Functions.get_IFEEL_feats(all_data,df_test,True)\n",
    "            all_feat = all_feat.append(feat)\n",
    "\n",
    "        df = all_feat.drop(all_feat.columns[[14,15,16,17,18,19,20]],axis = 1)\n",
    "        \n",
    "        X = df.iloc[:,:16]    \n",
    "        Y = df.iloc[:,-1:]\n",
    "        X = X.to_numpy()\n",
    "        Y = Y.to_numpy()\n",
    "\n",
    "        (X_train, X_test, y_train, y_test,) = train_test_split(X, Y,stratify = Y, test_size=0.1)\n",
    "        \n",
    "\n",
    "        ### Activate code below to select samples based on season\n",
    "        #season = 3                                      # Change number based on desired season: Summer - 1, Winter - 2, Transition - 3\n",
    "        #y_train = y_train[X_train[:, 14] == season]\n",
    "        #y_test = y_test[X_test[:, 14] == season]\n",
    "        #X_train = X_train[X_train[:, 14] == season, :]   \n",
    "        #X_test = X_test[X_test[:, 14] == season, :]\n",
    "\n",
    "        ## Remove season feature\n",
    "        #X_train = np.delete(X_train,-2,axis=1)\n",
    "        #X_test = np.delete(X_test,-2,axis=1)\n",
    "\n",
    "        \n",
    "        ### Activate code below to select samples based on intra-week group\n",
    "        #weekgroup = 3                                      # Change number based on desired intra-week group, Mon - Thurs: 1, Fri-Sat: 2, Sun: 3\n",
    "        #y_train = y_train[X_train[:, 15] == weekgroup]\n",
    "        #y_test = y_test[X_test[:, 15] == weekgroup]\n",
    "        #X_train = X_train[X_train[:, 15] == weekgroup, :]   \n",
    "        #X_test = X_test[X_test[:, 15] == weekgroup, :]\n",
    "\n",
    "        ## Remove intra-week group feature\n",
    "        #X_train = np.delete(X_train,-1,axis=1)\n",
    "        #X_test = np.delete(X_test,-1,axis=1)\n",
    "        \n",
    "        y_test = np.ravel(y_test)\n",
    "        y_train = np.ravel(y_train)\n",
    "        sc_X = preprocessing.StandardScaler()\n",
    "        X_train=sc_X.fit_transform(X_train)\n",
    "        X_test=sc_X.transform(X_test)\n",
    "        regr = MLPRegressor(hidden_layer_sizes = (270,270), max_iter=220, learning_rate_init = 0.01, alpha = 0.0005).fit(X_train, y_train)\n",
    "        results = regr.predict(X_test)\n",
    "        combined = np.vstack((y_test, results)).T\n",
    "        y_values_by_x = {}\n",
    "        for x, y in combined:\n",
    "            y_values_by_x.setdefault(x, []).append(y)\n",
    "        \n",
    "        ## Code below for RMSE\n",
    "        mse = {k: sum((k-v)**2)/len(v) for k, v in y_values_by_x.items()}\n",
    "        rmse = {k: math.sqrt(v) for k, v in mse.items()}\n",
    "        \n",
    "        all_rmse = np.array(list(rmse.items()))\n",
    "        all_rmse[:,0] =all_rmse[:,0]/4.6\n",
    "        all_rmse[:,0] = all_rmse[:,0]/no_of_houses                        # % households with PV installed, rmse\n",
    "\n",
    "        row_rmse = []\n",
    "        for pv_percentage in range(0,101,5):\n",
    "            index_min = np.argmin(abs(all_rmse[:,0] - pv_percentage/100))\n",
    "            error = all_rmse[index_min][1]\n",
    "            row_rmse.append(error)\n",
    "        all_row_rmse.append(row_rmse)\n",
    "            \n",
    "        ## Code below for MAPE\n",
    "        mape = {k: sum(abs(k-v)/k)/len(v) for k, v in y_values_by_x.items()}\n",
    "    \n",
    "        all_mape = np.array(list(mape.items()))\n",
    "        all_mape[:,0] =all_mape[:,0]/4.6\n",
    "        all_mape[:,0] = all_mape[:,0]/no_of_houses                        # % households with PV installed, rmse\n",
    "        \n",
    "        row_mape = []\n",
    "        for pv_percentage in range(5,101,5):\n",
    "            index_min = np.argmin(abs(all_rmse[:,0] - pv_percentage/100))\n",
    "            error = all_mape[index_min][1]\n",
    "            row_mape.append(error)\n",
    "        all_row_mape.append(row_mape)\n",
    "        \n",
    "    all_all_rmse = np.add(all_all_rmse,all_row_rmse)\n",
    "    all_all_mape = np.add(all_all_mape,all_row_mape)\n",
    "    print(i)\n",
    "all_all_rmse = np.divide(all_all_rmse,repetitions) \n",
    "all_all_mape = np.divide(all_all_mape,repetitions)"
   ]
  },
  {
   "cell_type": "code",
   "execution_count": 17,
   "id": "f9fe1542",
   "metadata": {},
   "outputs": [],
   "source": [
    "### Save npy file of rmse values\n",
    "np.save('ave_81hh_all_rmse',all_all_rmse)\n",
    "np.save('ave_81hh_all_mape',all_all_mape)"
   ]
  },
  {
   "cell_type": "markdown",
   "id": "0dade662",
   "metadata": {},
   "source": [
    "### Plot RMSE heatmap changing with number of households and PV penetration rate"
   ]
  },
  {
   "cell_type": "code",
   "execution_count": 106,
   "id": "1cb183fb",
   "metadata": {},
   "outputs": [],
   "source": [
    "all_all_error = np.load('ave_81hh_all_mape.npy')"
   ]
  },
  {
   "cell_type": "code",
   "execution_count": 112,
   "id": "c2944548",
   "metadata": {},
   "outputs": [
    {
     "data": {
      "text/plain": [
       "Text(0.5, 1.0, 'All Data')"
      ]
     },
     "execution_count": 112,
     "metadata": {},
     "output_type": "execute_result"
    },
    {
     "data": {
      "image/png": "[encoded data removed]",
      "text/plain": [
       "<Figure size 432x288 with 2 Axes>"
      ]
     },
     "metadata": {},
     "output_type": "display_data"
    }
   ],
   "source": [
    "x_axis_labels = [5,'','',20,'','','',40,'','','',60,'','','',80,'','','',100]\n",
    "y_axis_labels = [x for x in range(20,81,10)] # %%latexbels for y-axis\n",
    "sns.set(rc = {'figure.figsize':(6,4)})\n",
    "s = sns.heatmap(all_all_error, xticklabels=x_axis_labels, yticklabels=y_axis_labels,cbar=True,center = 1.5,cbar_kws={'ticks': [0.1,0.4,0.7,1,1.3,1.6]})\n",
    "s.set_title('All Data',fontsize=15)\n",
    "#s.set_xlabel('Percentage of properties with installed PV (%)', fontsize=13)\n",
    "#s.set_ylabel('Number of properties', fontsize=20)"
   ]
  },
  {
   "cell_type": "code",
   "execution_count": null,
   "id": "95527a35",
   "metadata": {},
   "outputs": [],
   "source": []
  }
 ],
 "metadata": {
  "kernelspec": {
   "display_name": "Python 3 (ipykernel)",
   "language": "python",
   "name": "python3"
  },
  "language_info": {
   "codemirror_mode": {
    "name": "ipython",
    "version": 3
   },
   "file_extension": ".py",
   "mimetype": "text/x-python",
   "name": "python",
   "nbconvert_exporter": "python",
   "pygments_lexer": "ipython3",
   "version": "3.9.5"
  }
 },
 "nbformat": 4,
 "nbformat_minor": 5
}
